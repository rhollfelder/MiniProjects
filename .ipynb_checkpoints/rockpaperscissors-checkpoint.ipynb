{
 "cells": [
  {
   "cell_type": "code",
   "execution_count": 1,
   "metadata": {},
   "outputs": [
    {
     "name": "stdout",
     "output_type": "stream",
     "text": [
      "Choose rock, paper, or scissors:rock\n",
      "computer wins!, computer chose paper\n"
     ]
    }
   ],
   "source": [
    "import random\n",
    "\n",
    "\n",
    "user = input('Choose rock, paper, or scissor:')\n",
    "choices = ['rock','paper','scissor']\n",
    "number = random.randint(0,2)\n",
    "computer = choices[number]\n",
    "\n",
    "\n",
    "if computer == 'rock' and user == 'paper':\n",
    "  print('You win!, Computer chose',computer)\n",
    "elif computer == 'paper' and user == 'scissor':\n",
    "  print('You win!, Computer chose',computer)\n",
    "elif computer == 'scissor' and user == 'rock':\n",
    "  print('You win!, Computer chose',computer)\n",
    "elif user == 'rock' and computer == 'paper':\n",
    "  print('Computer wins!, Computer chose',computer)\n",
    "elif user == 'paper' and computer == 'scissor':\n",
    "  print('Computer wins!, Computer chose',computer)\n",
    "elif user == 'scissor' and computer == 'rock':\n",
    "  print('Computer wins!, Computer chose',computer)\n",
    "else:\n",
    "  print('Tie game!')"
   ]
  }
 ],
 "metadata": {
  "kernelspec": {
   "display_name": "Python 3",
   "language": "python",
   "name": "python3"
  },
  "language_info": {
   "codemirror_mode": {
    "name": "ipython",
    "version": 3
   },
   "file_extension": ".py",
   "mimetype": "text/x-python",
   "name": "python",
   "nbconvert_exporter": "python",
   "pygments_lexer": "ipython3",
   "version": "3.7.3"
  }
 },
 "nbformat": 4,
 "nbformat_minor": 2
}
